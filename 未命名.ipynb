{
 "cells": [
  {
   "cell_type": "code",
   "execution_count": 1,
   "metadata": {},
   "outputs": [],
   "source": [
    "import numpy as np\n",
    "d3=np.load('./output.npz.npy')"
   ]
  },
  {
   "cell_type": "code",
   "execution_count": 4,
   "metadata": {},
   "outputs": [
    {
     "data": {
      "text/plain": [
       "(847, 17, 3)"
      ]
     },
     "execution_count": 4,
     "metadata": {},
     "output_type": "execute_result"
    }
   ],
   "source": [
    "d3.shape"
   ]
  },
  {
   "cell_type": "code",
   "execution_count": 5,
   "metadata": {},
   "outputs": [
    {
     "data": {
      "text/plain": [
       "array([[ 1.80662573e-06, -2.76725095e-05,  3.89053912e-06],\n",
       "       [-1.31566733e-01,  1.36300921e-04,  1.42992835e-03],\n",
       "       [-1.13105141e-01,  3.23771298e-01, -2.60810047e-01],\n",
       "       [-7.61165544e-02,  1.82298079e-01,  5.18976524e-02],\n",
       "       [ 1.31567553e-01, -1.47845596e-04, -1.41471426e-03],\n",
       "       [ 1.21112086e-01,  3.43824744e-01, -1.73747689e-01],\n",
       "       [ 1.24952391e-01,  7.32567012e-02,  1.78885937e-01],\n",
       "       [-7.98598398e-03, -2.23267540e-01, -5.38721010e-02],\n",
       "       [-6.51572039e-03, -4.73138452e-01, -8.75234753e-02],\n",
       "       [ 5.69635816e-03, -5.64218700e-01, -1.61006868e-01],\n",
       "       [ 1.63501094e-03, -6.34369731e-01, -6.83205128e-02],\n",
       "       [ 1.26351058e-01, -4.15189952e-01, -7.15540648e-02],\n",
       "       [ 2.51512617e-01, -1.84640765e-01, -3.37517038e-02],\n",
       "       [ 1.33273870e-01, -1.13665789e-01, -1.79693192e-01],\n",
       "       [-1.40307531e-01, -4.19391453e-01, -7.43179172e-02],\n",
       "       [-2.72328526e-01, -2.06933856e-01, -1.15320925e-03],\n",
       "       [-1.54640496e-01, -1.23855077e-01, -1.31995082e-01]], dtype=float32)"
      ]
     },
     "execution_count": 5,
     "metadata": {},
     "output_type": "execute_result"
    }
   ],
   "source": [
    "d3[0]"
   ]
  },
  {
   "cell_type": "code",
   "execution_count": null,
   "metadata": {},
   "outputs": [],
   "source": [
    "np.savez_compressed('filename.npz', array1=array1, array2=array2)"
   ]
  }
 ],
 "metadata": {
  "kernelspec": {
   "display_name": "Python 3",
   "language": "python",
   "name": "python3"
  },
  "language_info": {
   "codemirror_mode": {
    "name": "ipython",
    "version": 3
   },
   "file_extension": ".py",
   "mimetype": "text/x-python",
   "name": "python",
   "nbconvert_exporter": "python",
   "pygments_lexer": "ipython3",
   "version": "3.7.5"
  }
 },
 "nbformat": 4,
 "nbformat_minor": 4
}
